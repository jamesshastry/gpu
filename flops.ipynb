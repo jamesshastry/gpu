{
  "nbformat": 4,
  "nbformat_minor": 0,
  "metadata": {
    "colab": {
      "provenance": [],
      "include_colab_link": true
    },
    "kernelspec": {
      "name": "python3",
      "display_name": "Python 3"
    },
    "language_info": {
      "name": "python"
    },
    "accelerator": "GPU",
    "gpuClass": "standard"
  },
  "cells": [
    {
      "cell_type": "markdown",
      "metadata": {
        "id": "view-in-github",
        "colab_type": "text"
      },
      "source": [
        "<a href=\"https://colab.research.google.com/github/jamesshastry/gpu/blob/main/flops.ipynb\" target=\"_parent\"><img src=\"https://colab.research.google.com/assets/colab-badge.svg\" alt=\"Open In Colab\"/></a>"
      ]
    },
    {
      "cell_type": "code",
      "execution_count": null,
      "metadata": {
        "colab": {
          "base_uri": "https://localhost:8080/"
        },
        "id": "LR0RVZCnfh_G",
        "outputId": "c7d5c330-9671-46b8-87cc-571462f79e4d"
      },
      "outputs": [
        {
          "output_type": "stream",
          "name": "stdout",
          "text": [
            "Wed Feb  8 22:26:15 2023       \n",
            "+-----------------------------------------------------------------------------+\n",
            "| NVIDIA-SMI 510.47.03    Driver Version: 510.47.03    CUDA Version: 11.6     |\n",
            "|-------------------------------+----------------------+----------------------+\n",
            "| GPU  Name        Persistence-M| Bus-Id        Disp.A | Volatile Uncorr. ECC |\n",
            "| Fan  Temp  Perf  Pwr:Usage/Cap|         Memory-Usage | GPU-Util  Compute M. |\n",
            "|                               |                      |               MIG M. |\n",
            "|===============================+======================+======================|\n",
            "|   0  Tesla T4            Off  | 00000000:00:04.0 Off |                    0 |\n",
            "| N/A   63C    P0    26W /  70W |      0MiB / 15360MiB |      0%      Default |\n",
            "|                               |                      |                  N/A |\n",
            "+-------------------------------+----------------------+----------------------+\n",
            "                                                                               \n",
            "+-----------------------------------------------------------------------------+\n",
            "| Processes:                                                                  |\n",
            "|  GPU   GI   CI        PID   Type   Process name                  GPU Memory |\n",
            "|        ID   ID                                                   Usage      |\n",
            "|=============================================================================|\n",
            "|  No running processes found                                                 |\n",
            "+-----------------------------------------------------------------------------+\n"
          ]
        }
      ],
      "source": [
        "!nvidia-smi"
      ]
    },
    {
      "cell_type": "code",
      "source": [
        "import torch\n",
        "from torch.profiler import profile, ProfilerActivity\n",
        "\n",
        "'''\n",
        "Achieved FLOPS for various numerical operations.\n",
        "'''\n",
        "\n",
        "def do_work():\n",
        "    SIZE = 2**12\n",
        "    ones = torch.ones((SIZE, SIZE), device=torch.device('cuda'))\n",
        "    \n",
        "    torch.matmul(ones, ones, out=ones)\n",
        "\n",
        "    # In place multiplication\n",
        "    ones.mul_(0.5) \n",
        "    \n",
        "    result = ones.mul(0.5)\n",
        "    \n",
        "    total = ones + result\n",
        "    \n",
        "    result = torch.sum(ones)\n",
        "\n",
        "    # sqrt takes 7 ops.\n",
        "    result = torch.sqrt(ones)\n",
        "    \n",
        "    # sin takes 17 ops (14 fp64, 3 fp32).\n",
        "    result = torch.sin(ones) \n",
        "    \n",
        "    # sigmoid takes 24 ops.\n",
        "    result = torch.sigmoid(ones)\n",
        "    \n",
        "    # log10 takes 24 ops.\n",
        "    result = torch.log10(ones)\n",
        "    \n",
        "    # pow takes 142 ops.\n",
        "    result = torch.pow(ones, 3.14159)\n",
        "\n",
        "do_work()\n",
        "\n",
        "with profile(  \n",
        "    activities = [ProfilerActivity.CPU, ProfilerActivity.CUDA],\n",
        "    profile_memory = True,\n",
        "    record_shapes = True\n",
        "    #with_stack = True\n",
        ") as prof:\n",
        "\n",
        "    do_work()\n",
        "\n",
        "filename = f\"./flops_with_warmup.json\"\n",
        "prof.export_chrome_trace(filename)"
      ],
      "metadata": {
        "id": "6d45Ds0zfkGt"
      },
      "execution_count": null,
      "outputs": []
    }
  ]
}